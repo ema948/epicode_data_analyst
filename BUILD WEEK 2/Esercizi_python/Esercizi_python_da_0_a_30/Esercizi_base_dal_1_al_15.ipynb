{
 "cells": [
  {
   "cell_type": "markdown",
   "id": "a572433f-5a6d-4f80-a465-aeffb77c74c6",
   "metadata": {},
   "source": [
    "# 1) Scrivi una funzione che restituisca il massimo di tre numeri"
   ]
  },
  {
   "cell_type": "code",
   "execution_count": 1,
   "id": "0d0cb04e-311e-4e6c-b269-4949500c5336",
   "metadata": {
    "tags": []
   },
   "outputs": [
    {
     "name": "stdout",
     "output_type": "stream",
     "text": [
      "La lista di numeri è [22, 22, 30]\n",
      "Il massimo tra i tre numeri è 30\n"
     ]
    }
   ],
   "source": [
    "from random import randint\n",
    "\n",
    "lista_di_numeri = [randint(1, 100) for _ in range(3)]\n",
    "print(f\"La lista di numeri è {lista_di_numeri}\")\n",
    "\n",
    "def massimo_fra_tre_numeri(lista_di_numeri):  \n",
    "    massimo = max(lista_di_numeri)\n",
    "    return massimo\n",
    "\n",
    "print(f\"Il massimo tra i tre numeri è {massimo_fra_tre_numeri(lista_di_numeri)}\")\n"
   ]
  },
  {
   "cell_type": "markdown",
   "id": "94dbc9c0-debc-4d1e-8a43-707a5c0abba7",
   "metadata": {},
   "source": [
    "# 2) Scrivi una funzione che converta gradi Celsius in Fahrenheit"
   ]
  },
  {
   "cell_type": "code",
   "execution_count": 2,
   "id": "b0ffee23-c543-4368-a5d4-60872db963b3",
   "metadata": {
    "tags": []
   },
   "outputs": [
    {
     "name": "stdout",
     "output_type": "stream",
     "text": [
      "I gradi Celsius sono [0, 33, -13, -35, -8, -9, -37, -3, 6, -36]\n",
      "I gradi Fahrenheit sono: [32.0, 91.4, 8.6, -31.0, 17.6, 15.8, -34.6, 26.6, 42.8, -32.8]\n"
     ]
    }
   ],
   "source": [
    "from random import randint \n",
    "\n",
    "gradi_celsius = [randint(-40, 40) for _ in range(10)]\n",
    "print(f\"I gradi Celsius sono {gradi_celsius}\")\n",
    "\n",
    "def convertitore_celsius_in_fahrenheit(celsius):\n",
    "    fahrenheit = []\n",
    "    for elemento in celsius:\n",
    "        grado = (elemento * 9/5) + 32\n",
    "        fahrenheit.append(round(grado, 2))\n",
    "        \n",
    "    return fahrenheit\n",
    "    \n",
    "print(f\"I gradi Fahrenheit sono: {convertitore_celsius_in_fahrenheit(gradi_celsius)}\")\n"
   ]
  },
  {
   "cell_type": "markdown",
   "id": "0a517544-6e83-4a31-a637-f2736cab687b",
   "metadata": {},
   "source": [
    "# 3) Scrivi un programma che rimuova i duplicati da una lista"
   ]
  },
  {
   "cell_type": "code",
   "execution_count": 3,
   "id": "e5d75d2d-ee51-4721-b3aa-2d30f44122d0",
   "metadata": {},
   "outputs": [
    {
     "name": "stdout",
     "output_type": "stream",
     "text": [
      "La lista con i duplicati contiene: [1, 2, 3, 3, 5, 5, 8, 13, 13, 21, 34, 34]\n",
      "La lista senza i duplicati contiene: [1, 2, 3, 5, 8, 13, 21, 34]\n"
     ]
    }
   ],
   "source": [
    "lista = [1, 2, 3, 3, 5, 5, 8, 13, 13, 21, 34, 34]\n",
    "print(f\"La lista con i duplicati contiene: {lista}\")\n",
    "\n",
    "def rimozione_duplicati(lista_elementi):\n",
    "    lista_senza_duplicati = list(set(lista_elementi))\n",
    "    return lista_senza_duplicati\n",
    "\n",
    "lista_senza_duplicati = rimozione_duplicati(lista)\n",
    "print(f\"La lista senza i duplicati contiene: {sorted(lista_senza_duplicati)}\")"
   ]
  },
  {
   "cell_type": "markdown",
   "id": "966624a7-16a9-4eb7-8a5b-cc17ce8fe538",
   "metadata": {},
   "source": [
    "# 4) Crea una funzione che verifichi se una parola è un palindromo."
   ]
  },
  {
   "cell_type": "code",
   "execution_count": 4,
   "id": "c5b6bc63-75b7-429c-b362-f525ba52abec",
   "metadata": {
    "tags": []
   },
   "outputs": [
    {
     "name": "stdout",
     "output_type": "stream",
     "text": [
      "La parola Anna è un palindromo\n",
      "La parola femore non è un palindromo\n",
      "La parola mano non è un palindromo\n",
      "La parola Osso è un palindromo\n",
      "La parola secchio non è un palindromo\n",
      "La parola radar è un palindromo\n"
     ]
    }
   ],
   "source": [
    "lista_di_parole = [\"Anna\", \"femore\", \"mano\", \"Osso\", \"secchio\", \"radar\"]\n",
    "\n",
    "def palindromo(lista):\n",
    "    for parola in lista:\n",
    "        if parola.lower() == parola[::-1].lower():\n",
    "            print(f\"La parola {parola} è un palindromo\")\n",
    "        else: \n",
    "            print(f\"La parola {parola} non è un palindromo\")\n",
    "\n",
    "palindromo(lista_di_parole)"
   ]
  },
  {
   "cell_type": "markdown",
   "id": "13d7a608-4da6-43e9-8e41-45fcd2fb5d83",
   "metadata": {},
   "source": [
    "# 5) Scrivi una funzione che calcoli il fattoriale di un numero."
   ]
  },
  {
   "cell_type": "code",
   "execution_count": 5,
   "id": "bbfb4e63-40f3-4a24-b10e-3760b081121c",
   "metadata": {},
   "outputs": [
    {
     "name": "stdout",
     "output_type": "stream",
     "text": [
      "Il fattoriale di 56 è 710998587804863451854045647463724949736497978881168458687447040000000000000\n"
     ]
    }
   ],
   "source": [
    "from random import randint\n",
    "\n",
    "numero = randint(1, 100)\n",
    "\n",
    "def calcolo_fattoriale(n):\n",
    "    fattoriale = 1  \n",
    "    for num in range(1, n+1, 1):\n",
    "        fattoriale *= num  \n",
    "    return fattoriale\n",
    "\n",
    "print(f\"Il fattoriale di {numero} è {calcolo_fattoriale(numero)}\")\n"
   ]
  },
  {
   "cell_type": "markdown",
   "id": "057edf61-c9c3-4c9f-b078-3eab131388ce",
   "metadata": {
    "tags": []
   },
   "source": [
    "# 6) Crea un dizionario da due liste, una che contiene le chiavi e l'altra i valori."
   ]
  },
  {
   "cell_type": "code",
   "execution_count": 6,
   "id": "75f02fad-2586-4d29-85db-58926ec3fd94",
   "metadata": {},
   "outputs": [
    {
     "name": "stdout",
     "output_type": "stream",
     "text": [
      "{'Apple': 'iPhone 13', 'Samsung': 'Galaxy S21', 'Google': 'Pixel 6', 'OnePlus': 'OnePlus 9', 'Xiaomi': 'Mi 11'}\n"
     ]
    }
   ],
   "source": [
    "marche_smartphone = [\"Apple\", \"Samsung\", \"Google\", \"OnePlus\", \"Xiaomi\"]\n",
    "modelli_smartphone = [\"iPhone 13\", \"Galaxy S21\", \"Pixel 6\", \"OnePlus 9\", \"Mi 11\"]\n",
    "\n",
    "dizionario = dict(zip(marche_smartphone, modelli_smartphone))\n",
    "\n",
    "print(dizionario)\n"
   ]
  },
  {
   "cell_type": "markdown",
   "id": "e4289540-c065-4400-9afb-51ae1c17b0dc",
   "metadata": {},
   "source": [
    "# 7) Scrivi una funzione che unisca due liste in una lista di tuple."
   ]
  },
  {
   "cell_type": "code",
   "execution_count": 7,
   "id": "c85a49d9-762d-4e4b-b72a-259c76a09a17",
   "metadata": {},
   "outputs": [
    {
     "name": "stdout",
     "output_type": "stream",
     "text": [
      "[('Dell', 'XPS 13'), ('HP', 'Spectre x360'), ('Lenovo', 'ThinkPad X1 Carbon'), ('Asus', 'ZenBook Pro'), ('Acer', 'Predator Helios 300')]\n"
     ]
    }
   ],
   "source": [
    "marche_portatili = [\"Dell\", \"HP\", \"Lenovo\", \"Asus\", \"Acer\"]\n",
    "modelli_portatili = [\"XPS 13\", \"Spectre x360\", \"ThinkPad X1 Carbon\", \"ZenBook Pro\", \"Predator Helios 300\"]\n",
    "\n",
    "lista_di_tuple = list(tuple(zip(marche_portatili, modelli_portatili)))\n",
    "\n",
    "print(lista_di_tuple)\n"
   ]
  },
  {
   "cell_type": "markdown",
   "id": "5b79284e-2ad8-45e3-b247-e8b350f9e9f8",
   "metadata": {},
   "source": [
    "# 8) Scrivi un programma che ordini una lista di tuple per il secondo elemento.\n",
    "\n",
    "In questo esempio, utilizziamo sorted() con una funzione lambda come chiave di ordinamento. La funzione lambda prende una tupla come argomento e restituisce il suo secondo elemento (tupla[1]), che è utilizzato come criterio di ordinamento. La lista risultante, lista_ordinata, sarà ordinata in base al secondo elemento delle tuple."
   ]
  },
  {
   "cell_type": "code",
   "execution_count": 8,
   "id": "7f2eb0f6-db9b-4a1b-a813-16cb7ae4b752",
   "metadata": {},
   "outputs": [
    {
     "name": "stdout",
     "output_type": "stream",
     "text": [
      "[(1, 5), (5, 6), (2, 8), (3, 10), (4, 12)]\n"
     ]
    }
   ],
   "source": [
    "# Definiamo una lista di tuple\n",
    "lista_di_tuple = [(3, 10), (1, 5), (2, 8), (4, 12), (5, 6)]\n",
    "\n",
    "# Ordiniamo la lista di tuple per il secondo elemento\n",
    "lista_ordinata = sorted(lista_di_tuple, key=lambda tupla: tupla[1])\n",
    "\n",
    "# Stampiamo la lista ordinata\n",
    "print(lista_ordinata)\n"
   ]
  },
  {
   "cell_type": "markdown",
   "id": "5136787e-87f1-424c-badf-6f2188d3995a",
   "metadata": {},
   "source": [
    "# 9) Utilizza una list comprehension per creare una lista dei quadrati dei primi 10 numeri interi."
   ]
  },
  {
   "cell_type": "code",
   "execution_count": 9,
   "id": "3634b9f3-a175-4403-a9c6-17a0d3d1d474",
   "metadata": {},
   "outputs": [
    {
     "data": {
      "text/plain": [
       "[1, 4, 9, 16, 25, 36, 49, 64, 81, 100]"
      ]
     },
     "execution_count": 9,
     "metadata": {},
     "output_type": "execute_result"
    }
   ],
   "source": [
    "lista_di_quadrati = [numero**2 for numero in range(1, 11)]\n",
    "\n",
    "lista_di_quadrati"
   ]
  },
  {
   "cell_type": "markdown",
   "id": "8923a0c8-54f3-4626-843f-9481d6952a71",
   "metadata": {},
   "source": [
    "# 10) Utilizza una list comprehension per estrarre numeri pari da una lista data."
   ]
  },
  {
   "cell_type": "code",
   "execution_count": 10,
   "id": "ac351ec7-ff8d-4ca1-9e0f-8b2e7be52543",
   "metadata": {},
   "outputs": [
    {
     "name": "stdout",
     "output_type": "stream",
     "text": [
      "La lista di numeri è [52, 40, 87, 29, 17, 99, 10, 44, 3, 38]\n",
      "I numeri pari della lista di numeri sono: [52, 40, 10, 44, 38]\n"
     ]
    }
   ],
   "source": [
    "from random import randint\n",
    "\n",
    "lista_di_numeri = [randint(1, 100) for _ in range(10)]\n",
    "print(f\"La lista di numeri è {lista_di_numeri}\")\n",
    "\n",
    "lista_di_numeri_pari = [numero for numero in lista_di_numeri if numero % 2 == 0]\n",
    "print(f\"I numeri pari della lista di numeri sono: {lista_di_numeri_pari}\")"
   ]
  },
  {
   "cell_type": "markdown",
   "id": "3108798d-3a6d-4839-bd34-3a1c4bc24a7b",
   "metadata": {},
   "source": [
    "# 11) Crea una list comprehension che converta una lista di stringhe in maiuscolo."
   ]
  },
  {
   "cell_type": "code",
   "execution_count": 11,
   "id": "744efbb7-7fdf-43cc-aa57-53c49b751957",
   "metadata": {},
   "outputs": [
    {
     "name": "stdout",
     "output_type": "stream",
     "text": [
      "Lista di partenza:  ['pane', 'latte', 'uova', 'frutta', 'verdure', 'pollo', 'pasta', 'riso', 'salsa di pomodoro', 'biscotti']\n",
      "Lista con la prima lettera maiuscola:  ['Pane', 'Latte', 'Uova', 'Frutta', 'Verdure', 'Pollo', 'Pasta', 'Riso', 'Salsa di pomodoro', 'Biscotti']\n",
      "Lista tutta in maiuscolo:  ['PANE', 'LATTE', 'UOVA', 'FRUTTA', 'VERDURE', 'POLLO', 'PASTA', 'RISO', 'SALSA DI POMODORO', 'BISCOTTI']\n"
     ]
    }
   ],
   "source": [
    "# lista base\n",
    "lista_della_spesa = [\"pane\", \"latte\", \"uova\", \"frutta\", \"verdure\", \"pollo\", \"pasta\", \"riso\", \"salsa di pomodoro\", \"biscotti\"]\n",
    "print(\"Lista di partenza: \", lista_della_spesa)\n",
    "\n",
    "# lista con la prima lettera maiuscola\n",
    "lista_in_maiuscolo = [elemento.capitalize() for elemento in lista_della_spesa ]\n",
    "print(\"Lista con la prima lettera maiuscola: \", lista_in_maiuscolo)\n",
    "\n",
    "#lista tutta in maiuscolo\n",
    "lista_in_maiuscolo = [elemento.upper() for elemento in lista_della_spesa ]\n",
    "print(\"Lista tutta in maiuscolo: \", lista_in_maiuscolo)\n"
   ]
  },
  {
   "cell_type": "markdown",
   "id": "168b64bd-60ad-4667-bcea-b92cf4d7ca2d",
   "metadata": {},
   "source": [
    "# 12) Utilizza una list comprehension per creare una lista di tuple (numero, quadrato del numero)."
   ]
  },
  {
   "cell_type": "code",
   "execution_count": 12,
   "id": "b40ae904-85db-4c70-9257-3dae0e1fb85f",
   "metadata": {},
   "outputs": [
    {
     "data": {
      "text/plain": [
       "[(1, 1),\n",
       " (2, 4),\n",
       " (3, 9),\n",
       " (4, 16),\n",
       " (5, 25),\n",
       " (6, 36),\n",
       " (7, 49),\n",
       " (8, 64),\n",
       " (9, 81),\n",
       " (10, 100)]"
      ]
     },
     "execution_count": 12,
     "metadata": {},
     "output_type": "execute_result"
    }
   ],
   "source": [
    "lista_di_tuple = [(numero, numero ** 2) for numero in range(1, 11)]\n",
    "\n",
    "lista_di_tuple"
   ]
  },
  {
   "cell_type": "markdown",
   "id": "5f5c1013-cc01-4e06-8b9f-05b30cc455ef",
   "metadata": {},
   "source": [
    "# 13) Scrivi una list comprehension che filtri le parole di una lista che iniziano con una vocale."
   ]
  },
  {
   "cell_type": "code",
   "execution_count": 13,
   "id": "cbefa0ca-ea5d-45c9-abdd-a6f2a6962bf4",
   "metadata": {
    "tags": []
   },
   "outputs": [
    {
     "name": "stdout",
     "output_type": "stream",
     "text": [
      "Lista completa della frutta e verdura:  ['arancia', 'banana', 'ciliegia', 'fragola', 'Uva', 'cavolo', 'patata', 'pomodoro', 'zucchina', 'Edera']\n",
      "Lista filtrata di frutta e verdura:  ['arancia', 'Uva', 'Edera']\n"
     ]
    }
   ],
   "source": [
    "lista_frutta_e_verdura = [\"arancia\", \"banana\", \"ciliegia\", \"fragola\", \"Uva\", \"cavolo\", \"patata\", \"pomodoro\", \"zucchina\", \"Edera\"]\n",
    "print(\"Lista completa della frutta e verdura: \", lista_frutta_e_verdura)\n",
    "\n",
    "lista_filtrata = [elemento for elemento in lista_frutta_e_verdura if elemento[0] in \"aieouAEIOU\"]\n",
    "print(\"Lista filtrata di frutta e verdura: \", lista_filtrata)"
   ]
  },
  {
   "cell_type": "markdown",
   "id": "64f187b9-afac-44a8-b36a-26f476bcaebc",
   "metadata": {},
   "source": [
    "# 14) Utilizza una list comprehension per eliminare i valori negativi da una lista."
   ]
  },
  {
   "cell_type": "code",
   "execution_count": 14,
   "id": "16ea5c33-3402-453e-a240-c7161a000a05",
   "metadata": {},
   "outputs": [
    {
     "name": "stdout",
     "output_type": "stream",
     "text": [
      "L'intera lista è:  [5, -3, 8, -2, 10, -7, 4, -1, 9, -6, -11, -13, 15, -20, 25]\n",
      "La lista filtrata per solo i numeri positivi è:  [5, 8, 10, 4, 9, 15, 25]\n"
     ]
    }
   ],
   "source": [
    "lista_numeri = [5, -3, 8, -2, 10, -7, 4, -1, 9, -6, -11, -13, 15, -20, 25]\n",
    "print(\"L'intera lista è: \", lista_numeri)\n",
    "\n",
    "lista_numeri = [numero for numero in lista_numeri if numero >= 0]\n",
    "print(\"La lista filtrata per solo i numeri positivi è: \", lista_numeri)"
   ]
  },
  {
   "cell_type": "markdown",
   "id": "7bc9a98a-c1d1-460a-8b14-f5fa79739495",
   "metadata": {},
   "source": [
    "# 15) Crea una lista di tutte le lettere dell&#39;alfabeto con una list comprehension.\n",
    "\n",
    "In questo codice, ho utilizzando la funzione chr() per convertire i valori ASCII delle lettere minuscole da 'a' a 'z' \n",
    "in caratteri e quindi creare una lista di tutte le lettere dell'alfabeto. \n",
    "Alla fine, l' alfabeto conterrà tutte le lettere in ordine dalla 'a' alla 'z'.\n",
    "Ho fatto uscire il risultato dell' alfabeto tutto in una linea utilizzando il metodo join()."
   ]
  },
  {
   "cell_type": "code",
   "execution_count": 15,
   "id": "85f88bb4-750d-4161-9310-da04181c6ad7",
   "metadata": {},
   "outputs": [
    {
     "name": "stdout",
     "output_type": "stream",
     "text": [
      "['a', 'b', 'c', 'd', 'e', 'f', 'g', 'h', 'i', 'j', 'k', 'l', 'm', 'n', 'o', 'p', 'q', 'r', 's', 't', 'u', 'v', 'w', 'x', 'y', 'z']"
     ]
    }
   ],
   "source": [
    "alfabeto = [chr(lettera) for lettera in range(ord('a'), ord('z')+1)]\n",
    "alfabeto_una_riga = ''.join(alfabeto)\n",
    "alfabeto_lista = list(alfabeto_una_riga)\n",
    "print(alfabeto_lista, end='')"
   ]
  },
  {
   "cell_type": "code",
   "execution_count": null,
   "id": "8cc9a48f-a2ad-46b7-a359-0da225f252fb",
   "metadata": {},
   "outputs": [],
   "source": []
  }
 ],
 "metadata": {
  "kernelspec": {
   "display_name": "Python 3 (ipykernel)",
   "language": "python",
   "name": "python3"
  },
  "language_info": {
   "codemirror_mode": {
    "name": "ipython",
    "version": 3
   },
   "file_extension": ".py",
   "mimetype": "text/x-python",
   "name": "python",
   "nbconvert_exporter": "python",
   "pygments_lexer": "ipython3",
   "version": "3.11.5"
  }
 },
 "nbformat": 4,
 "nbformat_minor": 5
}
