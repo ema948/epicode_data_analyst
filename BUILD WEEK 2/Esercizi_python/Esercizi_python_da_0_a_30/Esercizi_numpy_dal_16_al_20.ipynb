{
 "cells": [
  {
   "cell_type": "markdown",
   "id": "238c7d72-5d51-405b-84b2-7f64cba01859",
   "metadata": {},
   "source": [
    "# 16) Crea un array numpy di dimensione 3x3 con valori casuali."
   ]
  },
  {
   "cell_type": "code",
   "execution_count": 3,
   "id": "3cb9fa87-aece-4eef-a3fa-f718f97545c5",
   "metadata": {},
   "outputs": [
    {
     "name": "stdout",
     "output_type": "stream",
     "text": [
      "[[ 2  2 57]\n",
      " [90 87 21]\n",
      " [88 64 96]]\n"
     ]
    }
   ],
   "source": [
    "import numpy as np\n",
    "\n",
    "matrice_3_x_3 = np.random.randint(1, 100, size=(3, 3))\n",
    "\n",
    "print(matrice_3_x_3)\n"
   ]
  },
  {
   "cell_type": "markdown",
   "id": "81ad16e1-2f84-452e-a40d-70cd7a01e54d",
   "metadata": {},
   "source": [
    "# 17) Scrivi un programma che calcoli la somma di tutti gli elementi in un array numpy."
   ]
  },
  {
   "cell_type": "code",
   "execution_count": 11,
   "id": "fa097634-b333-4b3c-b41b-8b0ec88020fa",
   "metadata": {},
   "outputs": [
    {
     "data": {
      "text/plain": [
       "370"
      ]
     },
     "execution_count": 11,
     "metadata": {},
     "output_type": "execute_result"
    }
   ],
   "source": [
    "import numpy as np\n",
    "\n",
    "lista_numerica = [23, 56, 12, 7, 45, 99, 33, 18, 5, 72]\n",
    "array_numerico = np.array(lista_numerica)\n",
    "\n",
    "somma_array= np.sum(array_numerico)\n",
    "somma_array\n"
   ]
  },
  {
   "cell_type": "markdown",
   "id": "42b115a2-6a50-45ff-8814-bdd1799ee95f",
   "metadata": {},
   "source": [
    "# 18) Crea un array numpy e calcolane la media, mediana e varianza."
   ]
  },
  {
   "cell_type": "code",
   "execution_count": 17,
   "id": "79c22b22-5d3e-4ac4-8c10-b21400722ea0",
   "metadata": {},
   "outputs": [
    {
     "name": "stdout",
     "output_type": "stream",
     "text": [
      "La media è di: 40.0\n",
      "La mediana è di: 36.5\n",
      "La varianza è di: 684.8\n"
     ]
    }
   ],
   "source": [
    "import numpy as np\n",
    "\n",
    "lista_numerica_2 = [8, 31, 60, 14, 92, 27, 50, 9, 42, 67]\n",
    "array_numerico_2 = np.array(lista_numerica_2)\n",
    "\n",
    "media_array = np.mean(array_numerico_2)\n",
    "print(f\"La media è di: {media_array}\")\n",
    "\n",
    "mediana_array =np.median(array_numerico_2)\n",
    "print(f\"La mediana è di: {mediana_array}\")\n",
    "\n",
    "varianza_array = np.var(array_numerico_2)\n",
    "print(f\"La varianza è di: {varianza_array}\")"
   ]
  },
  {
   "cell_type": "markdown",
   "id": "63f3679d-327a-41ff-8911-604da37f19b6",
   "metadata": {},
   "source": [
    "# 19) Scrivi un programma che moltiplichi due matrici numpy.\n",
    "\n",
    "In questo esempio, abbiamo definito due matrici numpy matrice1 e matrice2. \n",
    "Poi abbiamo utilizzato la funzione np.dot() per eseguire la moltiplicazione tra le due matrici e memorizzarla nella variabile risultato. \n",
    "Infine, abbiamo stampato le matrici di input e il risultato della moltiplicazione."
   ]
  },
  {
   "cell_type": "code",
   "execution_count": 24,
   "id": "624f8cde-301b-48b5-b68e-89426d462026",
   "metadata": {},
   "outputs": [
    {
     "name": "stdout",
     "output_type": "stream",
     "text": [
      "Matrice 1:\n",
      "[[1 2]\n",
      " [3 4]]\n",
      "\n",
      "Matrice 2:\n",
      "[[5 6]\n",
      " [7 8]]\n",
      "\n",
      "Risultato della moltiplicazione:\n",
      "[[19 22]\n",
      " [43 50]]\n"
     ]
    }
   ],
   "source": [
    "# Moltiplicazione tra matrici\n",
    "import numpy as np\n",
    "\n",
    "matrice1 = np.array([[1, 2], [3, 4]])\n",
    "matrice2 = np.array([[5, 6], [7, 8]])\n",
    "\n",
    "risultato = np.dot(matrice1, matrice2)\n",
    "\n",
    "print(\"Matrice 1:\")\n",
    "print(matrice1)\n",
    "\n",
    "print(\"\\nMatrice 2:\")\n",
    "print(matrice2)\n",
    "\n",
    "print(\"\\nRisultato della moltiplicazione:\")\n",
    "print(risultato)\n"
   ]
  },
  {
   "cell_type": "code",
   "execution_count": 28,
   "id": "6814e7b9-b39a-4ed2-be47-a4e1166b573a",
   "metadata": {},
   "outputs": [
    {
     "name": "stdout",
     "output_type": "stream",
     "text": [
      "Array 1:\n",
      "[10  2 35 49  5]\n",
      "\n",
      "Array 2:\n",
      "[64 71 82  9 10]\n",
      "\n",
      "Risultato della moltiplicazione:\n",
      "4143\n",
      "\n",
      "Risultato della moltiplicazione elemento per elemento:\n",
      "[ 640  142 2870  441   50]\n"
     ]
    }
   ],
   "source": [
    "# Moltiplicazione tra array\n",
    "import numpy as np\n",
    "\n",
    "lista1 = [10, 2, 35, 49, 5]\n",
    "lista2 = [64, 71, 82, 9, 10]\n",
    "\n",
    "array1 = np.array(lista1)\n",
    "array2 = np.array(lista2)\n",
    "\n",
    "risultato_elemento_per_elemento = array1 * array2\n",
    "\n",
    "risultato = np.dot(array1, array2)\n",
    "\n",
    "print(\"Array 1:\")\n",
    "print(array1)\n",
    "\n",
    "print(\"\\nArray 2:\")\n",
    "print(array2)\n",
    "\n",
    "print(\"\\nRisultato della moltiplicazione elemento per elemento:\")\n",
    "print(risultato_elemento_per_elemento)\n",
    "\n",
    "print(\"\\nRisultato della moltiplicazione complessiva:\")\n",
    "print(risultato)"
   ]
  },
  {
   "cell_type": "markdown",
   "id": "ebfdf9ca-c829-44ad-b34f-a5a869249386",
   "metadata": {},
   "source": [
    "# 20) Crea un array numpy e ordinalo in modo ascendente."
   ]
  },
  {
   "cell_type": "code",
   "execution_count": 25,
   "id": "9c9107e6-0e0b-407d-97d2-0848c95e6fec",
   "metadata": {},
   "outputs": [
    {
     "name": "stdout",
     "output_type": "stream",
     "text": [
      "L'array non ordinato è:  [42 88 15 76  5 61 29 11 37 93]\n",
      "L'array ordinato è:  [ 5 11 15 29 37 42 61 76 88 93]\n"
     ]
    }
   ],
   "source": [
    "lista_numerica_3 = [42, 88, 15, 76, 5, 61, 29, 11, 37, 93]\n",
    "array_numerico_3 = np.array(lista_numerica_3)\n",
    "print(\"L'array non ordinato è: \",  array_numerico_3)\n",
    "\n",
    "array_ordinato_asc = np.sort(array_numerico_3)\n",
    "print(\"L'array ordinato è: \",  array_ordinato_asc)\n"
   ]
  },
  {
   "cell_type": "code",
   "execution_count": null,
   "id": "64afd1cb-1016-4393-aeef-6519ac623a3c",
   "metadata": {},
   "outputs": [],
   "source": []
  }
 ],
 "metadata": {
  "kernelspec": {
   "display_name": "Python 3 (ipykernel)",
   "language": "python",
   "name": "python3"
  },
  "language_info": {
   "codemirror_mode": {
    "name": "ipython",
    "version": 3
   },
   "file_extension": ".py",
   "mimetype": "text/x-python",
   "name": "python",
   "nbconvert_exporter": "python",
   "pygments_lexer": "ipython3",
   "version": "3.11.5"
  }
 },
 "nbformat": 4,
 "nbformat_minor": 5
}
